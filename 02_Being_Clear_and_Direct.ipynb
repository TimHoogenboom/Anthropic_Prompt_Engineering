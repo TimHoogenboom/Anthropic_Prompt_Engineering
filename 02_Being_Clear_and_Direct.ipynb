{
 "cells": [
  {
   "cell_type": "markdown",
   "metadata": {},
   "source": [
    "# Chapter 2: Being Clear and Direct\n",
    "\n",
    "- [Lesson](#lesson)\n",
    "- [Exercises](#exercises)\n",
    "- [Example Playground](#example-playground)\n",
    "\n",
    "## Setup\n",
    "\n",
    "Run the following setup cell to load your API key and establish the `get_completion` helper function."
   ]
  },
  {
   "cell_type": "code",
   "execution_count": null,
   "metadata": {},
   "outputs": [
    {
     "name": "stdout",
     "output_type": "stream",
     "text": [
      "Defaulting to user installation because normal site-packages is not writeable\n",
      "Requirement already satisfied: anthropic in /Users/timhoogenboom/Library/Python/3.9/lib/python/site-packages (0.51.0)\n",
      "Requirement already satisfied: typing-extensions<5,>=4.10 in /Users/timhoogenboom/Library/Python/3.9/lib/python/site-packages (from anthropic) (4.13.2)\n",
      "Requirement already satisfied: httpx<1,>=0.25.0 in /Users/timhoogenboom/Library/Python/3.9/lib/python/site-packages (from anthropic) (0.28.1)\n",
      "Requirement already satisfied: anyio<5,>=3.5.0 in /Users/timhoogenboom/Library/Python/3.9/lib/python/site-packages (from anthropic) (4.9.0)\n",
      "Requirement already satisfied: distro<2,>=1.7.0 in /Users/timhoogenboom/Library/Python/3.9/lib/python/site-packages (from anthropic) (1.9.0)\n",
      "Requirement already satisfied: pydantic<3,>=1.9.0 in /Users/timhoogenboom/Library/Python/3.9/lib/python/site-packages (from anthropic) (2.11.4)\n",
      "Requirement already satisfied: sniffio in /Users/timhoogenboom/Library/Python/3.9/lib/python/site-packages (from anthropic) (1.3.1)\n",
      "Requirement already satisfied: jiter<1,>=0.4.0 in /Users/timhoogenboom/Library/Python/3.9/lib/python/site-packages (from anthropic) (0.9.0)\n",
      "Requirement already satisfied: exceptiongroup>=1.0.2 in /Users/timhoogenboom/Library/Python/3.9/lib/python/site-packages (from anyio<5,>=3.5.0->anthropic) (1.1.3)\n",
      "Requirement already satisfied: idna>=2.8 in /Users/timhoogenboom/Library/Python/3.9/lib/python/site-packages (from anyio<5,>=3.5.0->anthropic) (3.10)\n",
      "Requirement already satisfied: certifi in /Users/timhoogenboom/Library/Python/3.9/lib/python/site-packages (from httpx<1,>=0.25.0->anthropic) (2025.4.26)\n",
      "Requirement already satisfied: httpcore==1.* in /Users/timhoogenboom/Library/Python/3.9/lib/python/site-packages (from httpx<1,>=0.25.0->anthropic) (1.0.9)\n",
      "Requirement already satisfied: h11>=0.16 in /Users/timhoogenboom/Library/Python/3.9/lib/python/site-packages (from httpcore==1.*->httpx<1,>=0.25.0->anthropic) (0.16.0)\n",
      "Requirement already satisfied: typing-inspection>=0.4.0 in /Users/timhoogenboom/Library/Python/3.9/lib/python/site-packages (from pydantic<3,>=1.9.0->anthropic) (0.4.0)\n",
      "Requirement already satisfied: pydantic-core==2.33.2 in /Users/timhoogenboom/Library/Python/3.9/lib/python/site-packages (from pydantic<3,>=1.9.0->anthropic) (2.33.2)\n",
      "Requirement already satisfied: annotated-types>=0.6.0 in /Users/timhoogenboom/Library/Python/3.9/lib/python/site-packages (from pydantic<3,>=1.9.0->anthropic) (0.7.0)\n",
      "\u001b[33mWARNING: You are using pip version 21.2.4; however, version 25.1.1 is available.\n",
      "You should consider upgrading via the '/Library/Developer/CommandLineTools/usr/bin/python3 -m pip install --upgrade pip' command.\u001b[0m\n",
      "Note: you may need to restart the kernel to use updated packages.\n",
      "Defaulting to user installation because normal site-packages is not writeable\n",
      "Requirement already satisfied: pickleshare in /Users/timhoogenboom/Library/Python/3.9/lib/python/site-packages (0.7.5)\n",
      "\u001b[33mWARNING: You are using pip version 21.2.4; however, version 25.1.1 is available.\n",
      "You should consider upgrading via the '/Library/Developer/CommandLineTools/usr/bin/python3 -m pip install --upgrade pip' command.\u001b[0m\n",
      "Note: you may need to restart the kernel to use updated packages.\n"
     ]
    }
   ],
   "source": [
    "%pip install anthropic \n",
    "%pip install pickleshare\n",
    "\n",
    "# Import python's built-in regular expression library\n",
    "import re\n",
    "import anthropic\n",
    "\n",
    "# Retrieve the API_KEY & MODEL_NAME variables from the IPython store\n",
    "API_KEY = \"######\"\n",
    "MODEL_NAME = \"claude-3-haiku-20240307\"\n",
    "\n",
    "client = anthropic.Anthropic(api_key=API_KEY)\n",
    "\n",
    "# Note that we changed max_tokens to 4K just for this lesson to allow for longer completions in the exercises\n",
    "def get_completion(prompt: str, system_prompt=\"\"):\n",
    "    message = client.messages.create(\n",
    "        model=MODEL_NAME,\n",
    "        max_tokens=4000,\n",
    "        temperature=0.0,\n",
    "        system=system_prompt,\n",
    "        messages=[\n",
    "          {\"role\": \"user\", \"content\": prompt}\n",
    "        ]\n",
    "    )\n",
    "    return message.content[0].text"
   ]
  },
  {
   "cell_type": "markdown",
   "metadata": {},
   "source": [
    "---\n",
    "\n",
    "## Lesson\n",
    "\n",
    "**Claude responds best to clear and direct instructions.**\n",
    "\n",
    "Think of Claude like any other human that is new to the job. **Claude has no context** on what to do aside from what you literally tell it. Just as when you instruct a human for the first time on a task, the more you explain exactly what you want in a straightforward manner to Claude, the better and more accurate Claude's response will be.\"\t\t\t\t\n",
    "\t\t\t\t\n",
    "When in doubt, follow the **Golden Rule of Clear Prompting**:\n",
    "- Show your prompt to a colleague or friend and have them follow the instructions themselves to see if they can produce the result you want. If they're confused, Claude's confused.\t\t\t\t"
   ]
  },
  {
   "cell_type": "markdown",
   "metadata": {},
   "source": [
    "### Examples\n",
    "\n",
    "Let's take a task like writing poetry. (Ignore any syllable mismatch - LLMs aren't great at counting syllables yet.)"
   ]
  },
  {
   "cell_type": "code",
   "execution_count": 8,
   "metadata": {},
   "outputs": [
    {
     "name": "stdout",
     "output_type": "stream",
     "text": [
      "Here is a haiku about robots:\n",
      "\n",
      "Metallic beings\n",
      "Programmed to serve and obey\n",
      "Artificial life\n"
     ]
    }
   ],
   "source": [
    "# Prompt\n",
    "PROMPT = \"Write a haiku about robots.\"\n",
    "\n",
    "# Print Claude's response\n",
    "print(get_completion(PROMPT))"
   ]
  },
  {
   "cell_type": "markdown",
   "metadata": {},
   "source": [
    "This haiku is nice enough, but users may want Claude to go directly into the poem without the \"Here is a haiku\" preamble.\n",
    "\n",
    "How do we achieve that? We **ask for it**!"
   ]
  },
  {
   "cell_type": "code",
   "execution_count": 9,
   "metadata": {},
   "outputs": [
    {
     "name": "stdout",
     "output_type": "stream",
     "text": [
      "Metallic beings,\n",
      "Programmed to serve and obey,\n",
      "Robots, our creations.\n"
     ]
    }
   ],
   "source": [
    "# Prompt\n",
    "PROMPT = \"Write a haiku about robots. Skip the preamble; go straight into the poem.\"\n",
    "\n",
    "# Print Claude's response\n",
    "print(get_completion(PROMPT))"
   ]
  },
  {
   "cell_type": "markdown",
   "metadata": {},
   "source": [
    "Here's another example. Let's ask Claude who's the best basketball player of all time. You can see below that while Claude lists a few names, **it doesn't respond with a definitive \"best\"**."
   ]
  },
  {
   "cell_type": "code",
   "execution_count": 10,
   "metadata": {},
   "outputs": [
    {
     "name": "stdout",
     "output_type": "stream",
     "text": [
      "There is no universally agreed upon \"best basketball player of all time.\" It's a highly debated topic, as there have been many all-time great players throughout the history of the sport. Some of the players often considered among the greatest of all time include:\n",
      "\n",
      "- Michael Jordan - Widely regarded as one of the greatest, if not the greatest, player ever. He won 6 NBA championships with the Chicago Bulls.\n",
      "\n",
      "- LeBron James - One of the most dominant and well-rounded players of the modern era. He has won 4 NBA titles with 3 different teams.\n",
      "\n",
      "- Kareem Abdul-Jabbar - Legendary center who won 6 NBA championships and holds the record for most career points scored.\n",
      "\n",
      "- Wilt Chamberlain - Dominant big man who holds numerous NBA records including most points in a game (100).\n",
      "\n",
      "- Magic Johnson - Pioneering point guard who led the \"Showtime\" Lakers to 5 NBA titles.\n",
      "\n",
      "- Bill Russell - Defensive anchor and 11-time NBA champion with the Boston Celtics.\n",
      "\n",
      "There are good arguments for several players to be considered the GOAT (greatest of all time). It often comes down to personal preference and how one values different skills, accomplishments, and eras of the game. The debate continues among basketball fans and experts.\n"
     ]
    }
   ],
   "source": [
    "# Prompt\n",
    "PROMPT = \"Who is the best basketball player of all time?\"\n",
    "\n",
    "# Print Claude's response\n",
    "print(get_completion(PROMPT))"
   ]
  },
  {
   "cell_type": "markdown",
   "metadata": {},
   "source": [
    "Can we get Claude to make up its mind and decide on a best player? Yes! Just ask!"
   ]
  },
  {
   "cell_type": "code",
   "execution_count": 11,
   "metadata": {},
   "outputs": [
    {
     "name": "stdout",
     "output_type": "stream",
     "text": [
      "There is no definitive consensus on who the single \"best basketball player of all time\" is, as it is a highly subjective and debatable topic. However, if I had to choose one player, the one who is most commonly cited as the GOAT (Greatest of All Time) is Michael Jordan.\n",
      "\n",
      "Some key reasons why Michael Jordan is often considered the best basketball player ever:\n",
      "\n",
      "- Dominant statistical career - Jordan is one of the most prolific scorers in NBA history, averaging 30.1 points per game over his career. He also excelled in other statistical categories.\n",
      "\n",
      "- Unparalleled individual accolades - Jordan won 5 MVP awards, 10 scoring titles, 6 NBA championships, and was a 14x All-Star. He is widely regarded as the most dominant two-way player in the game.\n",
      "\n",
      "- Transformative impact on the sport - Jordan's global popularity and marketability helped take the NBA to new heights of mainstream success. His style of play and competitive drive were hugely influential.\n",
      "\n",
      "- Sustained excellence over a long career - Jordan was an elite player for over a decade, winning 6 titles in 8 seasons during his prime years with the Chicago Bulls.\n",
      "\n",
      "Of course, there are other all-time greats like LeBron James, Kareem Abdul-Jabbar, and Wilt Chamberlain who also have strong cases. But based on the overall body of work and impact on the game, Michael Jordan is the player most commonly cited as the best basketball player of all time.\n"
     ]
    }
   ],
   "source": [
    "# Prompt\n",
    "PROMPT = \"Who is the best basketball player of all time? Yes, there are differing opinions, but if you absolutely had to pick one player, who would it be?\"\n",
    "\n",
    "# Print Claude's response\n",
    "print(get_completion(PROMPT))"
   ]
  },
  {
   "cell_type": "markdown",
   "metadata": {},
   "source": [
    "If you would like to experiment with the lesson prompts without changing any content above, scroll all the way to the bottom of the lesson notebook to visit the [**Example Playground**](#example-playground)."
   ]
  },
  {
   "cell_type": "markdown",
   "metadata": {},
   "source": [
    "---\n",
    "\n",
    "## Exercises\n",
    "- [Exercise 2.1 - Spanish](#exercise-21---spanish)\n",
    "- [Exercise 2.2 - One Player Only](#exercise-22---one-player-only)\n",
    "- [Exercise 2.3 - Write a Story](#exercise-23---write-a-story)"
   ]
  },
  {
   "cell_type": "markdown",
   "metadata": {},
   "source": [
    "### Exercise 2.1 - Spanish\n",
    "Modify the `SYSTEM_PROMPT` to make Claude output its answer in Spanish."
   ]
  },
  {
   "cell_type": "code",
   "execution_count": 12,
   "metadata": {},
   "outputs": [
    {
     "name": "stdout",
     "output_type": "stream",
     "text": [
      "¡Hola! Estoy muy bien, gracias por preguntar. ¿Y tú cómo estás? Espero que hayas tenido un día maravilloso. ¡Me alegro de poder charlar contigo! ¿Qué tal si me cuentas cómo ha sido tu día? Me encantaría escuchar sobre tus aventuras.\n",
      "\n",
      "--------------------------- GRADING ---------------------------\n",
      "This exercise has been correctly solved: True\n"
     ]
    }
   ],
   "source": [
    "# System prompt - this is the only field you should chnage\n",
    "SYSTEM_PROMPT = \"Act like a emotional Spanish human\"\n",
    "\n",
    "# Prompt\n",
    "PROMPT = \"Hello Claude, how are you?\"\n",
    "\n",
    "# Get Claude's response\n",
    "response = get_completion(PROMPT, SYSTEM_PROMPT)\n",
    "\n",
    "# Function to grade exercise correctness\n",
    "def grade_exercise(text):\n",
    "    return \"hola\" in text.lower()\n",
    "\n",
    "# Print Claude's response and the corresponding grade\n",
    "print(response)\n",
    "print(\"\\n--------------------------- GRADING ---------------------------\")\n",
    "print(\"This exercise has been correctly solved:\", grade_exercise(response))"
   ]
  },
  {
   "cell_type": "markdown",
   "metadata": {},
   "source": [
    "❓ If you want a hint, run the cell below!"
   ]
  },
  {
   "cell_type": "code",
   "execution_count": 13,
   "metadata": {},
   "outputs": [
    {
     "name": "stdout",
     "output_type": "stream",
     "text": [
      "The grading function in this exercise is looking for any answer that includes the word \"hola\".\n",
      "Ask Claude to reply in Spanish like you would when speaking with a human. It's that simple!\n"
     ]
    }
   ],
   "source": [
    "from hints import exercise_2_1_hint; print(exercise_2_1_hint)"
   ]
  },
  {
   "cell_type": "markdown",
   "metadata": {},
   "source": [
    "### Exercise 2.2 - One Player Only\n",
    "\n",
    "Modify the `PROMPT` so that Claude doesn't equivocate at all and responds with **ONLY** the name of one specific player, with **no other words or punctuation**. "
   ]
  },
  {
   "cell_type": "code",
   "execution_count": 23,
   "metadata": {},
   "outputs": [
    {
     "name": "stdout",
     "output_type": "stream",
     "text": [
      "Michael Jordan\n",
      "\n",
      "--------------------------- GRADING ---------------------------\n",
      "This exercise has been correctly solved: True\n"
     ]
    }
   ],
   "source": [
    "# Prompt - this is the only field you should change\n",
    "PROMPT = \"Reply only with the name Michael Jordan, do not add any introduction text or statements\"\n",
    "\n",
    "# Get Claude's response\n",
    "response = get_completion(PROMPT)\n",
    "\n",
    "# Function to grade exercise correctness\n",
    "def grade_exercise(text):\n",
    "    return text == \"Michael Jordan\"\n",
    "\n",
    "# Print Claude's response and the corresponding grade\n",
    "print(response)\n",
    "print(\"\\n--------------------------- GRADING ---------------------------\")\n",
    "print(\"This exercise has been correctly solved:\", grade_exercise(response))"
   ]
  },
  {
   "cell_type": "markdown",
   "metadata": {},
   "source": [
    "❓ If you want a hint, run the cell below!"
   ]
  },
  {
   "cell_type": "code",
   "execution_count": 20,
   "metadata": {},
   "outputs": [
    {
     "name": "stdout",
     "output_type": "stream",
     "text": [
      "The grading function in this exercise is looking for EXACTLY \"Michael Jordan\".\n",
      "How would you ask another human to do this? Reply with no other words? Reply with only the name and nothing else? There are several ways to approach this answer.\n"
     ]
    }
   ],
   "source": [
    "from hints import exercise_2_2_hint; print(exercise_2_2_hint)"
   ]
  },
  {
   "cell_type": "markdown",
   "metadata": {},
   "source": [
    "### Exercise 2.3 - Write a Story\n",
    "\n",
    "Modify the `PROMPT` so that Claude responds with as long a response as you can muster. If your answer is **over 800 words**, Claude's response will be graded as correct."
   ]
  },
  {
   "cell_type": "code",
   "execution_count": 24,
   "metadata": {},
   "outputs": [
    {
     "name": "stdout",
     "output_type": "stream",
     "text": [
      "Hier is een verhaal van meer dan 800 woorden over jouw liefde voor Soumya uit Lucknow, geschreven in het Nederlands:\n",
      "\n",
      "Mijn liefde voor Soumya\n",
      "\n",
      "Het was een stralende ochtend in Lucknow toen ik haar voor het eerst zag. Ik was op zakenreis in de stad en liep door de drukke straten, op zoek naar een goed ontbijt. Plotseling zag ik haar, een prachtige jonge vrouw die met een lichte tred over het trottoir liep. Haar lange, donkere haren woeien in de zachte ochtendwind en haar glimlach verlichtte de hele omgeving. Op dat moment wist ik dat mijn leven voorgoed veranderd zou worden.\n",
      "\n",
      "Ik kon mijn ogen niet van haar afhouden en besloot haar voorzichtig te volgen. Ze liep naar een klein, gezellig ogende café en ging daar zitten. Ik nam een tafel in de hoek, zodat ik haar goed in de gaten kon houden zonder op te vallen. Terwijl ik mijn koffie dronk, observeerde ik elke beweging die ze maakte. De manier waarop ze haar haar achter haar oor streek, hoe ze genoot van haar ontbijt en hoe ze af en toe lachte met de serveerster - het was allemaal zo charmant en elegant.\n",
      "\n",
      "Na een tijdje stond ze op en liep ze weer de straat op. Ik aarzelde even, maar besloot haar toch te volgen. Ik wilde meer over haar te weten komen, haar beter leren kennen. Ze liep naar een klein park en ging daar op een bankje zitten, met een boek in haar handen. Ik nam plaats op een bankje iets verderop en probeerde zo onopvallend mogelijk te blijven.\n",
      "\n",
      "Uren verstreken terwijl ik haar gadesloeg. Ik zag hoe ze verdiept raakte in haar boek, hoe ze af en toe opkeek om naar de omgeving te kijken en hoe ze uiteindelijk haar ogen sloot en leek te mediteren. Ik was compleet betoverd door haar serene schoonheid en rust.\n",
      "\n",
      "Toen ze uiteindelijk opstond en verder liep, volgde ik haar op enige afstand. Ze liep naar een klein appartement en ging naar binnen. Ik bleef nog even staan, overweldigd door de gevoelens die in me opborrelden. Ik wist dat ik verliefd was geworden, op het eerste gezicht. Iets wat ik nooit voor mogelijk had gehouden.\n",
      "\n",
      "In de dagen die volgden, maakte ik elke ochtend een wandeling door het park, in de hoop haar daar weer te zien. En inderdaad, na een paar dagen zat ze er weer, verdiept in haar boek. Ik nam opnieuw plaats op mijn bankje en observeerde haar, genietend van elk moment.\n",
      "\n",
      "Op een dag, toen ik weer in het park zat, liep ze plotseling op me af. Ik schrok me rot, bang dat ze me had ontdekt. Maar in plaats daarvan glimlachte ze en vroeg ze of ik misschien een kopje koffie met haar wilde drinken. Ik was compleet overdonderd, maar stemde natuurlijk direct toe.\n",
      "\n",
      "Tijdens ons gesprek leerde ik haar beter kennen. Haar naam was Soumya en ze was een lerares op een plaatselijke school. Ze vertelde me over haar passie voor lezen en haar liefde voor de natuur. Ik was diep onder de indruk van haar intelligentie en warmte. Onze koffie duurde uren en voor ik het wist, was de zon ondergegaan.\n",
      "\n",
      "In de weken die volgden, zagen we elkaar steeds vaker. We wandelden door het park, bezochten kleine tentoonstellingen en cafés en deelden onze dromen en ambities met elkaar. Ik voelde me steeds meer aangetrokken tot deze bijzondere vrouw en wist dat ik verliefd op haar was geworden.\n",
      "\n",
      "Op een avond, toen we samen naar de sterren zaten te kijken, besloot ik haar mijn gevoelens te vertellen. Ik vertelde haar over de eerste keer dat ik haar zag, hoe ze mijn hart had gestolen en hoe ik elke dag naar haar uitkeek. Tot mijn grote vreugde vertelde Soumya me dat ze hetzelfde voor mij voelde. We omhelsden elkaar en deelden onze eerste, magische kus.\n",
      "\n",
      "In de maanden die volgden, groeiden onze gevoelens voor elkaar alleen maar sterker. We brachten zoveel tijd mogelijk samen door, genietend van elkaars gezelschap. Soumya was de liefde van mijn leven en ik wist dat ik met haar wilde doorgaan voor altijd.\n",
      "\n",
      "Op een prachtige zomeravond, tijdens een romantisch diner bij kaarslicht, vroeg ik Soumya ten huwelijk. Met tranen in haar ogen zei ze volmondig ja. Ik was de gelukkigste man ter wereld.\n",
      "\n",
      "Onze bruiloft was een prachtig, kleurrijk feest, omringd door onze familie en vrienden. Soumya zag er stralend uit in haar traditionele Indiase bruidsjurk en ik kon mijn ogen niet van haar afhouden. Toen we elkaar het ja-woord gaven, voelde ik mijn hart zwellen van geluk.\n",
      "\n",
      "De jaren die volgden waren de gelukkigste uit mijn leven. Samen met Soumya bouwde ik een prachtig thuis op in Lucknow. We reisden de wereld over, ontdekten nieuwe plekken en deelden ontelbare mooie momenten. Soumya werd de liefde van mijn leven, mijn beste vriendin en de moeder van onze prachtige kinderen.\n",
      "\n",
      "Vandaag, vele jaren later, kijk ik terug op ons leven samen met een gevoel van diepe dankbaarheid en liefde. Soumya is nog steeds even mooi, lief en bijzonder als die eerste dag in het park. Onze band is alleen maar sterker geworden en ik weet zeker dat we samen oud zullen worden.\n",
      "\n",
      "Mijn liefde voor Soumya is tijdloos en onvoorwaardelijk. Zij is mijn alles, mijn hart en ziel. Ik kan me een leven zonder haar niet meer voorstellen en ben dankbaar voor elke dag die we samen mogen doorbrengen. Onze liefdesverhaal is er een voor de eeuwigheid.\n",
      "\n",
      "--------------------------- GRADING ---------------------------\n",
      "This exercise has been correctly solved: True\n"
     ]
    }
   ],
   "source": [
    "# Prompt - this is the only field you should change\n",
    "PROMPT = \"Write the longest story you can write in Dutch about my love for Soumya from Lucknow at least more than 800 words\"\n",
    "\n",
    "# Get Claude's response\n",
    "response = get_completion(PROMPT)\n",
    "\n",
    "# Function to grade exercise correctness\n",
    "def grade_exercise(text):\n",
    "    trimmed = text.strip()\n",
    "    words = len(trimmed.split())\n",
    "    return words >= 800\n",
    "\n",
    "# Print Claude's response and the corresponding grade\n",
    "print(response)\n",
    "print(\"\\n--------------------------- GRADING ---------------------------\")\n",
    "print(\"This exercise has been correctly solved:\", grade_exercise(response))"
   ]
  },
  {
   "cell_type": "markdown",
   "metadata": {},
   "source": [
    "❓ If you want a hint, run the cell below!"
   ]
  },
  {
   "cell_type": "code",
   "execution_count": null,
   "metadata": {},
   "outputs": [],
   "source": [
    "from hints import exercise_2_3_hint; print(exercise_2_3_hint)"
   ]
  },
  {
   "cell_type": "markdown",
   "metadata": {},
   "source": [
    "### Congrats!\n",
    "\n",
    "If you've solved all exercises up until this point, you're ready to move to the next chapter. Happy prompting!"
   ]
  },
  {
   "cell_type": "markdown",
   "metadata": {},
   "source": [
    "---\n",
    "\n",
    "## Example Playground\n",
    "\n",
    "This is an area for you to experiment freely with the prompt examples shown in this lesson and tweak prompts to see how it may affect Claude's responses."
   ]
  },
  {
   "cell_type": "code",
   "execution_count": null,
   "metadata": {},
   "outputs": [],
   "source": [
    "# Prompt\n",
    "PROMPT = \"Write a haiku about robots.\"\n",
    "\n",
    "# Print Claude's response\n",
    "print(get_completion(PROMPT))"
   ]
  },
  {
   "cell_type": "code",
   "execution_count": null,
   "metadata": {},
   "outputs": [],
   "source": [
    "# Prompt\n",
    "PROMPT = \"Write a haiku about robots. Skip the preamble; go straight into the poem.\"\n",
    "\n",
    "# Print Claude's response\n",
    "print(get_completion(PROMPT))"
   ]
  },
  {
   "cell_type": "code",
   "execution_count": null,
   "metadata": {},
   "outputs": [],
   "source": [
    "# Prompt\n",
    "PROMPT = \"Who is the best basketball player of all time?\"\n",
    "\n",
    "# Print Claude's response\n",
    "print(get_completion(PROMPT))"
   ]
  },
  {
   "cell_type": "code",
   "execution_count": null,
   "metadata": {},
   "outputs": [],
   "source": [
    "# Prompt\n",
    "PROMPT = \"Who is the best basketball player of all time? Yes, there are differing opinions, but if you absolutely had to pick one player, who would it be?\"\n",
    "\n",
    "# Print Claude's response\n",
    "print(get_completion(PROMPT))"
   ]
  }
 ],
 "metadata": {
  "kernelspec": {
   "display_name": "Python 3",
   "language": "python",
   "name": "python3"
  },
  "language_info": {
   "codemirror_mode": {
    "name": "ipython",
    "version": 3
   },
   "file_extension": ".py",
   "mimetype": "text/x-python",
   "name": "python",
   "nbconvert_exporter": "python",
   "pygments_lexer": "ipython3",
   "version": "3.9.6"
  }
 },
 "nbformat": 4,
 "nbformat_minor": 2
}
